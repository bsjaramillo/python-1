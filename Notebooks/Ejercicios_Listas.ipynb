{
 "cells": [
  {
   "cell_type": "markdown",
   "metadata": {},
   "source": [
    "# Ejercicios con listas (arrays)"
   ]
  },
  {
   "cell_type": "markdown",
   "metadata": {},
   "source": [
    "## 1. La Serie de Fibonacci"
   ]
  },
  {
   "cell_type": "markdown",
   "metadata": {},
   "source": [
    "<img src=\"images/Fibonacci.jpeg\">"
   ]
  },
  {
   "cell_type": "markdown",
   "metadata": {},
   "source": [
    "### ¿Que es la serie de Fibonacci?\n",
    "\n",
    "En matemáticas, la sucesión o serie de Fibonacci es la siguiente:\n",
    "\n",
    "La sucesión comienza con los números 0 y 1, y a partir de estos, *cada término es la suma de los dos anteriores*\n",
    "\n",
    "El programa consistirá en hacer una seria de Fibonacci con la cantidad de números que el usuario os diga.\n",
    "\n",
    "Deberas pedir la cantidad de números . Por ejemplo : 7\n",
    "El resultado por pantalla debe ser:\n",
    "## 0 1 1 2 3 5 8"
   ]
  },
  {
   "cell_type": "markdown",
   "metadata": {},
   "source": [
    "******"
   ]
  },
  {
   "cell_type": "markdown",
   "metadata": {},
   "source": [
    "## 2.Palíndromo"
   ]
  },
  {
   "cell_type": "markdown",
   "metadata": {},
   "source": [
    "### ¿Que es un Palíndromo?\n",
    "\n",
    "Una palabra o frase que se lee igual de izquierda a derecha que de derecha a izquierda.\n",
    "\n",
    "Por Ejemplo.\n",
    "\n",
    "* No traces en ese cartón\n",
    "* Sometamos o matemos\n",
    "* Isaac no ronca así\n",
    "\n",
    "El programa consistirá en pedir una frase o palabra al usuario y decirle si es un Palíndromo o no lo es."
   ]
  },
  {
   "cell_type": "code",
   "execution_count": 9,
   "metadata": {},
   "outputs": [
    {
     "name": "stdout",
     "output_type": "stream",
     "text": [
      "Escribe una palabra: carretera\n"
     ]
    }
   ],
   "source": [
    "#Aqui tienes un poco de ayuda\n",
    "palabra = input(\"Escribe una palabra: \")"
   ]
  },
  {
   "cell_type": "code",
   "execution_count": 10,
   "metadata": {},
   "outputs": [
    {
     "name": "stdout",
     "output_type": "stream",
     "text": [
      "tu palabra empieza por la letra c\n",
      "Y tiene una longitud de 9\n"
     ]
    }
   ],
   "source": [
    "print(\"tu palabra empieza por la letra \" + str(palabra[0]))\n",
    "print(\"Y tiene una longitud de \" + str(len(palabra)))"
   ]
  },
  {
   "cell_type": "markdown",
   "metadata": {},
   "source": [
    "********"
   ]
  },
  {
   "cell_type": "markdown",
   "metadata": {},
   "source": [
    "## 3.BubbleSort (Subida de nota)"
   ]
  },
  {
   "cell_type": "markdown",
   "metadata": {},
   "source": [
    "<img src=\"images/bubblesort.png\">"
   ]
  },
  {
   "cell_type": "markdown",
   "metadata": {},
   "source": [
    "La practica consiste en pedir al usuario una lista de 5 números desordenados y que el programa te devuelva esa lista con los números ordenados.\n",
    "\n",
    "**¿Como hacerlo?**\n",
    "\n",
    "Para pedir al usuario la lista se hace con un INPUT y split(). Ejemplo"
   ]
  },
  {
   "cell_type": "code",
   "execution_count": 1,
   "metadata": {},
   "outputs": [
    {
     "name": "stdout",
     "output_type": "stream",
     "text": [
      "Introduce 5 números separados por coma: 2,4,7,2,3\n"
     ]
    }
   ],
   "source": [
    "valores=input(\"Introduce 5 números separados por coma: \"); #Introducimos los valores por teclado\n",
    "list = valores.split(\",\") #Creo una lista separados por la coma"
   ]
  },
  {
   "cell_type": "code",
   "execution_count": 4,
   "metadata": {
    "scrolled": true
   },
   "outputs": [
    {
     "name": "stdout",
     "output_type": "stream",
     "text": [
      "['2', '4', '7', '2', '3']\n"
     ]
    }
   ],
   "source": [
    "#imprimo la lista\n",
    "print(list)"
   ]
  },
  {
   "cell_type": "code",
   "execution_count": 6,
   "metadata": {},
   "outputs": [
    {
     "data": {
      "text/plain": [
       "'7'"
      ]
     },
     "execution_count": 6,
     "metadata": {},
     "output_type": "execute_result"
    }
   ],
   "source": [
    "#imprimo la posición de una lista, recordar que la posición empieza en cero\n",
    "list[2]"
   ]
  }
 ],
 "metadata": {
  "kernelspec": {
   "display_name": "Python 3",
   "language": "python",
   "name": "python3"
  },
  "language_info": {
   "codemirror_mode": {
    "name": "ipython",
    "version": 3
   },
   "file_extension": ".py",
   "mimetype": "text/x-python",
   "name": "python",
   "nbconvert_exporter": "python",
   "pygments_lexer": "ipython3",
   "version": "3.6.8"
  }
 },
 "nbformat": 4,
 "nbformat_minor": 2
}
